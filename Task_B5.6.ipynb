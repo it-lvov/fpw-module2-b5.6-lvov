{
 "cells": [
  {
   "cell_type": "code",
   "execution_count": 381,
   "metadata": {},
   "outputs": [
    {
     "name": "stdout",
     "output_type": "stream",
     "text": [
      "Игра Крестики-Нолики\n",
      "Ход указывается сочетанием строки и столбца без пробела. Например: 22\n",
      "---\n",
      "  1 2 3 \n",
      "1 - - - \n",
      "2 - - - \n",
      "3 - - - \n",
      ".......\n"
     ]
    },
    {
     "name": "stdin",
     "output_type": "stream",
     "text": [
      "Ход КРЕСТИКА (строка и столбец без пробела): 22\n"
     ]
    },
    {
     "name": "stdout",
     "output_type": "stream",
     "text": [
      "  1 2 3 \n",
      "1 - - - \n",
      "2 - x - \n",
      "3 - - - \n",
      ".......\n"
     ]
    },
    {
     "name": "stdin",
     "output_type": "stream",
     "text": [
      "Ход НОЛИКА (строка и столбец без пробела): 11\n"
     ]
    },
    {
     "name": "stdout",
     "output_type": "stream",
     "text": [
      "  1 2 3 \n",
      "1 o - - \n",
      "2 - x - \n",
      "3 - - - \n",
      ".......\n"
     ]
    },
    {
     "name": "stdin",
     "output_type": "stream",
     "text": [
      "Ход КРЕСТИКА (строка и столбец без пробела): 13\n"
     ]
    },
    {
     "name": "stdout",
     "output_type": "stream",
     "text": [
      "  1 2 3 \n",
      "1 o - x \n",
      "2 - x - \n",
      "3 - - - \n",
      ".......\n"
     ]
    },
    {
     "name": "stdin",
     "output_type": "stream",
     "text": [
      "Ход НОЛИКА (строка и столбец без пробела): 31\n"
     ]
    },
    {
     "name": "stdout",
     "output_type": "stream",
     "text": [
      "  1 2 3 \n",
      "1 o - x \n",
      "2 - x - \n",
      "3 o - - \n",
      ".......\n"
     ]
    },
    {
     "name": "stdin",
     "output_type": "stream",
     "text": [
      "Ход КРЕСТИКА (строка и столбец без пробела): 33\n"
     ]
    },
    {
     "name": "stdout",
     "output_type": "stream",
     "text": [
      "  1 2 3 \n",
      "1 o - x \n",
      "2 - x - \n",
      "3 o - x \n",
      ".......\n"
     ]
    },
    {
     "name": "stdin",
     "output_type": "stream",
     "text": [
      "Ход НОЛИКА (строка и столбец без пробела): 21\n"
     ]
    },
    {
     "name": "stdout",
     "output_type": "stream",
     "text": [
      "  1 2 3 \n",
      "1 o - x \n",
      "2 o x - \n",
      "3 o - x \n",
      ".......\n",
      "Победил:  o  !!!\n",
      "-- конец игры --\n"
     ]
    }
   ],
   "source": [
    "# Игра Крестики-Нолики, используются английские X и O (маленькие)\n",
    "\n",
    "# формирование матрицы\n",
    "def show_m(m):\n",
    "    for i in range(4):\n",
    "        for j in range(4):\n",
    "            print(m[i][j], end=\" \")\n",
    "        print()\n",
    "    print(\".......\")\n",
    "\n",
    "# ход\n",
    "def move():\n",
    "    steps = ['11', '12', '13', '21', '22', '23', '31', '32', '33']\n",
    "    s = input(who)\n",
    "    \n",
    "    # проверка корректности инпута\n",
    "    if s not in steps:\n",
    "        print(\"Некорректный ввод, попробуйте еще раз...\")\n",
    "        move() \n",
    "    elif m[int(s[0])][int(s[1])] != '-':\n",
    "        print(\"Поле уже занято, попробуйте еще раз...\")\n",
    "        move()\n",
    "    else:\n",
    "        m[int(s[0])][int(s[1])] = sym # запись хода в матрицу\n",
    "           \n",
    "# проверка победы\n",
    "def check_victory(m):\n",
    "    \n",
    "    # кто выиграл\n",
    "    def who_won(check):\n",
    "        global end\n",
    "        if check == 'x' or check == 'o':\n",
    "            end = True\n",
    "            return print('Победил: ', check, ' !!!')\n",
    "    #rows\n",
    "    for i in range(1, 4):\n",
    "        check = ''.join(set(m[i][1:]))\n",
    "        who_won(check)\n",
    "        \n",
    "    #columns\n",
    "    check = []\n",
    "    for j in range(1, 4):\n",
    "        for i in range(1, 4):\n",
    "            check.append((m[i][j]))\n",
    "        check = ''.join(set(check))\n",
    "        who_won(check)\n",
    "        check = []\n",
    "    \n",
    "    #dia1\n",
    "    check = []\n",
    "    for i in range(1, 4):\n",
    "        check.append(m[i][i])\n",
    "    check = ''.join(set(check))\n",
    "    who_won(check)\n",
    "    \n",
    "    #dia2\n",
    "    check = []\n",
    "    j = 3\n",
    "    for i in range(1, 4):    \n",
    "        check.append(m[i][j])\n",
    "        j -= 1\n",
    "    check = ''.join(set(check))\n",
    "    who_won(check)\n",
    "    \n",
    "    #friendship\n",
    "    if step == 9:\n",
    "        return print('Победила дружба !!!')\n",
    "    \n",
    "# начальная матрица\n",
    "m = [\n",
    "    [' ', 1, 2, 3], \n",
    "    [1, '-', '-', '-'],\n",
    "    [2, '-', '-', '-'],\n",
    "    [3, '-', '-', '-'], \n",
    "]\n",
    "\n",
    "# инструкция:\n",
    "print(\"Игра Крестики-Нолики\")\n",
    "print(\"Ход указывается сочетанием строки и столбца без пробела. Например: 22\")\n",
    "print(\"---\")\n",
    "\n",
    "# вывод начальной матрицы  \n",
    "show_m(m)\n",
    "\n",
    "# для завершения при победе\n",
    "end = False\n",
    "\n",
    "# ходы от 1 до 9\n",
    "for step in range(1, 10): \n",
    "    if not end:\n",
    "        if step % 2 == 0:\n",
    "            who = \"Ход НОЛИКА (строка и столбец без пробела):\"\n",
    "            sym = 'o'\n",
    "        else:\n",
    "            who = \"Ход КРЕСТИКА (строка и столбец без пробела):\"\n",
    "            sym = 'x'\n",
    "\n",
    "        move()\n",
    "        show_m(m)\n",
    "\n",
    "        if step > 4: # раньше 5-го хода нет смысла проверять пробеду\n",
    "            check_victory(m)\n",
    "    else:\n",
    "        print('-- конец игры --')\n",
    "        break"
   ]
  }
 ],
 "metadata": {
  "kernelspec": {
   "display_name": "Python 3",
   "language": "python",
   "name": "python3"
  },
  "language_info": {
   "codemirror_mode": {
    "name": "ipython",
    "version": 3
   },
   "file_extension": ".py",
   "mimetype": "text/x-python",
   "name": "python",
   "nbconvert_exporter": "python",
   "pygments_lexer": "ipython3",
   "version": "3.7.9"
  }
 },
 "nbformat": 4,
 "nbformat_minor": 4
}
